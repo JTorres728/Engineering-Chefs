{
  "nbformat": 4,
  "nbformat_minor": 0,
  "metadata": {
    "colab": {
      "provenance": []
    },
    "kernelspec": {
      "name": "python3",
      "display_name": "Python 3"
    },
    "language_info": {
      "name": "python"
    }
  },
  "cells": [
    {
      "cell_type": "code",
      "execution_count": 2,
      "metadata": {
        "id": "nH7Sv62Xrn4v"
      },
      "outputs": [],
      "source": [
        "# Import all necessary libraries, including the RecipeScraper itself\n",
        "import pandas as pd\n",
        "import numpy as np\n",
        "from bs4 import BeautifulSoup\n",
        "import requests\n",
        "import re\n",
        "import time\n",
        "from RecipeScraper import RecipeScraper"
      ]
    },
    {
      "cell_type": "code",
      "source": [
        "# Read the CSV containing URLs as a Pandas Dataframe\n",
        "# Helps make reading the URLs easier\n",
        "df = pd.read_csv('Recipe_Links_Filtered.csv')"
      ],
      "metadata": {
        "id": "2ifnv6IlsZYP"
      },
      "execution_count": 3,
      "outputs": []
    },
    {
      "cell_type": "code",
      "source": [
        "# The actual attributes present in the CSV database are specified in an array\n",
        "cols = ['URL',\n",
        "        'Title',\n",
        "        'Author',\n",
        "        'Date',\n",
        "        'Rating',\n",
        "        'Prep Time',\n",
        "        'Cook Time',\n",
        "        'Total Time',\n",
        "        'Servings',\n",
        "        'Calories',\n",
        "        'Carbs',\n",
        "        'Fat',\n",
        "        'Protien',\n",
        "        'Description',\n",
        "        'Ingredients',\n",
        "        'Instructions']\n",
        "\n",
        "df_full = pd.DataFrame(columns=cols) # These attributes are then used to make\n",
        "                                     # a dataframe for the database"
      ],
      "metadata": {
        "id": "MpKornBQu0IV"
      },
      "execution_count": 5,
      "outputs": []
    },
    {
      "cell_type": "code",
      "source": [
        "# Before scraping multiple recipes, check to see if the scraper works properly on one recipe\n",
        "# Essentially a test\n",
        "scraper = RecipeScraper('https://www.allrecipes.com/recipe/275372/air-fryer-turkey-breast/')\n",
        "print(scraper.get_recipe_author())"
      ],
      "metadata": {
        "colab": {
          "base_uri": "https://localhost:8080/"
        },
        "id": "aDajqaoQ0XGS",
        "outputId": "bfcf6ab2-ae0d-4ba0-dfd8-af94a1dc81c3"
      },
      "execution_count": 4,
      "outputs": [
        {
          "output_type": "stream",
          "name": "stdout",
          "text": [
            "Bibi\n"
          ]
        }
      ]
    },
    {
      "cell_type": "code",
      "source": [
        "# So far, the dataframe for the database is empty\n",
        "# Use a loop to fill up the database one by one\n",
        "for i in range(300):\n",
        "  # Read one URL and pass it into the RecipeScraper constructor\n",
        "  url = df['URL'][i]\n",
        "  ex = RecipeScraper(url)\n",
        "\n",
        "  # Call every get function and store the info returned into the proper column in the row\n",
        "  df_full.at[i,'URL'] = url\n",
        "  df_full.at[i,'Title'] = ex.get_recipe_title()\n",
        "  df_full.at[i,'Author'] = ex.get_recipe_author()\n",
        "  df_full.at[i,'Date'] = ex.get_recipe_date()\n",
        "  df_full.at[i,'Rating'] = ex.get_recipe_rating()\n",
        "  df_full.at[i,'Description'] = ex.get_recipe_description()\n",
        "  df_full.at[i,'Ingredients'] = ex.get_recipe_ingredients()\n",
        "  df_full.at[i,'Instructions'] = ex.get_recipe_instructions()\n",
        "\n",
        "  # Details are returned as an array\n",
        "  details = ex.get_recipe_summary()\n",
        "\n",
        "  df_full.at[i,'Prep Time'] = details[0]  # Must read the returned array at\n",
        "  df_full.at[i,'Cook Time'] = details[1]  # speficic indexes to store into dataframe\n",
        "  df_full.at[i,'Total Time'] = details[2]\n",
        "  df_full.at[i,'Servings'] = details[3]\n",
        "\n",
        "  # Same case for nutrients\n",
        "  nutrients = ex.get_recipe_nutrition()\n",
        "\n",
        "  df_full.at[i,'Calories'] = nutrients[0]\n",
        "  df_full.at[i,'Carbs'] = nutrients[1]\n",
        "  df_full.at[i,'Fat'] = nutrients[2]\n",
        "  df_full.at[i,'Protien'] = nutrients[3]\n",
        "\n",
        "  sleep_time = np.random.uniform(1,5) # VERY IMPORTANT: Must wait before making\n",
        "  time.sleep(sleep_time)              # another request to avoid overwhelming their servers"
      ],
      "metadata": {
        "id": "I2Vb2cGuvYds"
      },
      "execution_count": 6,
      "outputs": []
    },
    {
      "cell_type": "code",
      "source": [
        "# Check to see whether data was written succesfully to rows\n",
        "print(df_full)"
      ],
      "metadata": {
        "id": "B5NWtMyrykjW",
        "colab": {
          "base_uri": "https://localhost:8080/"
        },
        "outputId": "da4e11e6-06b0-4fdb-e97a-ad24bff6861f"
      },
      "execution_count": 7,
      "outputs": [
        {
          "output_type": "stream",
          "name": "stdout",
          "text": [
            "                                                   URL  \\\n",
            "0    https://www.allrecipes.com/recipe/275372/air-f...   \n",
            "1    https://www.allrecipes.com/recipe/8537905/air-...   \n",
            "2    https://www.allrecipes.com/recipe/8252/chocola...   \n",
            "3    https://www.allrecipes.com/recipe/15432/angel-...   \n",
            "4    https://www.allrecipes.com/recipe/7868/mock-an...   \n",
            "..                                                 ...   \n",
            "295  https://www.allrecipes.com/recipe/48960/bloody...   \n",
            "296  https://www.allrecipes.com/recipe/232160/sweet...   \n",
            "297  https://www.allrecipes.com/recipe/8432564/blue...   \n",
            "298  https://www.allrecipes.com/recipe/12196/bluebe...   \n",
            "299  https://www.allrecipes.com/recipe/280289/blueb...   \n",
            "\n",
            "                                 Title         Author  \\\n",
            "0              Air Fryer Turkey Breast           Bibi   \n",
            "1        Air Fryer Buffalo Cauliflower      lutzflcat   \n",
            "2          Chocolate Angel Food Cake I    Jane Hilton   \n",
            "3                      Angel Food Cake        Krissyp   \n",
            "4                 Mock Angel Food Cake  Melissa Busse   \n",
            "..                                 ...            ...   \n",
            "295                    Bloody Mary Mix            NaN   \n",
            "296         Blueberry Cream Cheese Pie            NaN   \n",
            "297                  Blueberry Galette      Chef John   \n",
            "298             Homemade Blueberry Pie           beth   \n",
            "299  Blueberry Pie with Frozen Berries   Cindy Nelson   \n",
            "\n",
            "                            Date Rating Prep Time Cook Time     Total Time  \\\n",
            "0                October 6, 2023    4.9   10 mins   40 mins           1 hr   \n",
            "1               October 12, 2023    5.0   15 mins   15 mins        30 mins   \n",
            "2                  July 14, 2022    4.7   30 mins      1 hr   1 hr 30 mins   \n",
            "3               October 31, 2022    4.6   30 mins   40 mins   1 hr 10 mins   \n",
            "4                  July 14, 2022    4.3   20 mins   35 mins        55 mins   \n",
            "..                           ...    ...       ...       ...            ...   \n",
            "295           September 16, 2022    4.4    5 mins      None   8 hrs 5 mins   \n",
            "296                 May 29, 2023    4.7   15 mins   40 mins  3 hrs 55 mins   \n",
            "297                July 31, 2023    5.0   20 mins   45 mins   1 hr 35 mins   \n",
            "298  Updated on February 2, 2023    4.6   25 mins   50 mins   1 hr 15 mins   \n",
            "299            November 10, 2023    4.3   30 mins   45 mins   1 hr 15 mins   \n",
            "\n",
            "    Servings Calories Carbs   Fat Protien  \\\n",
            "0          6      263   10g    0g     40g   \n",
            "1          4      180    4g   33g      7g   \n",
            "2         14      179    0g   40g      5g   \n",
            "3         14      136    0g   30g      4g   \n",
            "4         10      575    1g  132g     11g   \n",
            "..       ...      ...   ...   ...     ...   \n",
            "295        8     None  None  None    None   \n",
            "296        8      631   33g   79g      9g   \n",
            "297        6      423   17g   64g      6g   \n",
            "298        8      366   17g   53g      3g   \n",
            "299        8      467   20g   69g      5g   \n",
            "\n",
            "                                           Description  \\\n",
            "0    This air fryer turkey breast has all the flavo...   \n",
            "1    Air fryer Buffalo cauliflower — a clever way t...   \n",
            "2    This is a very moist and light angel food. A f...   \n",
            "3    This is a classic angel food cake recipe that ...   \n",
            "4    My grandma used this mock angel food cake reci...   \n",
            "..                                                 ...   \n",
            "295  My sister got this recipe from a restaurant in...   \n",
            "296  This blueberry cream cheese pie is a crowd-ple...   \n",
            "297  This blueberry galette, with its rustic appear...   \n",
            "298  This blueberry pie, made with fresh berries, i...   \n",
            "299  A great blueberry pie made with frozen blueber...   \n",
            "\n",
            "                                           Ingredients  \\\n",
            "0    [1 tablespoon finely chopped fresh rosemary, 1...   \n",
            "1    [½ cup Buffalo wing sauce (such as Frank's), 1...   \n",
            "2    [2 cups egg whites, ¼ teaspoon salt, 1 ¼ teasp...   \n",
            "3    [1 cup cake flour, 1 ½ cups white sugar, divid...   \n",
            "4    [4 ½ cups cake flour, 4 cups white sugar, 2 te...   \n",
            "..                                                 ...   \n",
            "295  [1 (46 fluid ounce) bottle tomato-vegetable ju...   \n",
            "296  [1 cup all-purpose flour, ¾ cup chopped pecans...   \n",
            "297  [1 ½ cups all-purpose flour, ½ cup cornmeal, ½...   \n",
            "298  [¾ cup white sugar, 3 tablespoons cornstarch, ...   \n",
            "299  [5 cups frozen blueberries, 1 cup white sugar,...   \n",
            "\n",
            "                                          Instructions  \n",
            "0    [This air fryer turkey breast recipe is tender...  \n",
            "1    [Combine hot sauce, butter, and honey in a lar...  \n",
            "2    [Preheat oven to 325 degrees F (165 degrees C)...  \n",
            "3    [Preheat the oven to 375 degrees F (190 degree...  \n",
            "4    [Preheat the oven to 350 degrees F (175 degree...  \n",
            "..                                                 ...  \n",
            "295  [In a large pitcher, combine juice cocktail, l...  \n",
            "296  [Preheat the oven to 300 degrees F (150 degree...  \n",
            "297  [There are foods that just work amazingly well...  \n",
            "298  [Nothing screams \"summer\" quite like blueberry...  \n",
            "299  [Preheat the oven to 425 degrees F (220 degree...  \n",
            "\n",
            "[300 rows x 16 columns]\n"
          ]
        }
      ]
    },
    {
      "cell_type": "code",
      "source": [
        "# Finally, save everything as a CSV\n",
        "df_full.to_csv('recipes_full.csv')"
      ],
      "metadata": {
        "id": "MB1IyLeahI45"
      },
      "execution_count": 8,
      "outputs": []
    }
  ]
}